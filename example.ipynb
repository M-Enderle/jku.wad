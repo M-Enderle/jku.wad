{
 "cells": [
  {
   "cell_type": "markdown",
   "metadata": {},
   "source": [
    "# Tutorial"
   ]
  },
  {
   "cell_type": "code",
   "execution_count": 1,
   "metadata": {},
   "outputs": [],
   "source": [
    "%load_ext autoreload\n",
    "%autoreload 2"
   ]
  },
  {
   "cell_type": "code",
   "execution_count": 2,
   "metadata": {},
   "outputs": [],
   "source": [
    "from doom_arena import VizdoomMPEnv\n",
    "\n",
    "from doom_arena.player import ObsBuffer"
   ]
  },
  {
   "cell_type": "code",
   "execution_count": null,
   "metadata": {},
   "outputs": [],
   "source": [
    "env = VizdoomMPEnv(\n",
    "    num_players=1,\n",
    "    num_bots=16,\n",
    "    bot_skill=2,\n",
    "    doom_map=\"TRMN\",\n",
    "    extra_state=[ObsBuffer.LABELS],\n",
    "    episode_timeout=1000,\n",
    ")"
   ]
  },
  {
   "cell_type": "code",
   "execution_count": 4,
   "metadata": {},
   "outputs": [],
   "source": [
    "env.enable_replay()"
   ]
  },
  {
   "cell_type": "markdown",
   "metadata": {},
   "source": [
    "## Random policy (2 players)"
   ]
  },
  {
   "cell_type": "code",
   "execution_count": null,
   "metadata": {},
   "outputs": [],
   "source": [
    "for episode in range(1):\n",
    "    ep_return = {k: 0.0 for k in range(env.num_players)}\n",
    "    ep_step = 0\n",
    "    obs = env.reset()\n",
    "    done = None\n",
    "    for i in range(1000):\n",
    "        act = 2\n",
    "        obs, rwd, done, info = env.step(act)\n",
    "        ep_return = {k: ep_return[k] + rwd[i] for i, k in enumerate(ep_return)}\n",
    "        if done:\n",
    "            print(\"ep steps: {}; ep return: {}\".format(ep_step, ep_return))\n",
    "            break\n",
    "        else:\n",
    "            ep_step += 1"
   ]
  },
  {
   "cell_type": "code",
   "execution_count": null,
   "metadata": {},
   "outputs": [],
   "source": [
    "from IPython.display import HTML\n",
    "\n",
    "from doom_arena.render import render_episode\n",
    "\n",
    "\n",
    "ani = render_episode(env.get_player_replays(), subsample=10)\n",
    "HTML(ani.to_html5_video())"
   ]
  },
  {
   "cell_type": "markdown",
   "metadata": {},
   "source": [
    "## Eval DQN"
   ]
  },
  {
   "cell_type": "code",
   "execution_count": 1,
   "metadata": {},
   "outputs": [],
   "source": [
    "import os\n",
    "import sys\n",
    "\n",
    "sys.path.append(\"..\")\n",
    "\n",
    "os.environ[\"CUDA_VISIBLE_DEVICES\"] = \"2\""
   ]
  },
  {
   "cell_type": "code",
   "execution_count": 2,
   "metadata": {},
   "outputs": [],
   "source": [
    "import numpy as np\n",
    "import torch\n",
    "from torch.nn import functional as F\n",
    "from torchvision import transforms\n",
    "\n",
    "from agents.utils import stack_dict, to_tensor, resize, minmax\n",
    "\n",
    "\n",
    "frame_transform = transforms.Compose([stack_dict, to_tensor, resize, minmax])"
   ]
  },
  {
   "cell_type": "code",
   "execution_count": null,
   "metadata": {},
   "outputs": [],
   "source": [
    "from doom_arena import VizdoomMPEnv\n",
    "from doom_arena.player import ObsBuffer\n",
    "\n",
    "N_STACK_FRAMES = 4\n",
    "\n",
    "env = VizdoomMPEnv(\n",
    "    num_players=1,\n",
    "    num_bots=12,\n",
    "    doom_map=\"TRMN\",\n",
    "    extra_state=[ObsBuffer.LABELS, ObsBuffer.DEPTH],\n",
    "    n_stack_frames=N_STACK_FRAMES,\n",
    "    episode_timeout=2000,\n",
    "    hud=\"none\",\n",
    "    player_transform=frame_transform,\n",
    ")\n",
    "\n",
    "env.enable_replay()"
   ]
  },
  {
   "cell_type": "code",
   "execution_count": 18,
   "metadata": {},
   "outputs": [],
   "source": [
    "device = \"cuda\""
   ]
  },
  {
   "cell_type": "code",
   "execution_count": null,
   "metadata": {},
   "outputs": [],
   "source": [
    "env.observation_space"
   ]
  },
  {
   "cell_type": "code",
   "execution_count": null,
   "metadata": {},
   "outputs": [],
   "source": [
    "from agents.dqn import DQN\n",
    "\n",
    "\n",
    "dqn = DQN(\n",
    "    space=3 if N_STACK_FRAMES > 1 else 2,\n",
    "    input_dim=env.observation_space.shape[0],\n",
    "    action_space=env.action_space.n,\n",
    "    dim=64,\n",
    ").to(device)\n",
    "\n",
    "dqn.load_state_dict(torch.load(\"dqn.pth\"))"
   ]
  },
  {
   "cell_type": "code",
   "execution_count": null,
   "metadata": {},
   "outputs": [],
   "source": [
    "ep_return = {k: 0.0 for k in range(env.num_players)}\n",
    "ep_step = 0\n",
    "done = False\n",
    "obs = env.reset()\n",
    "while not done:\n",
    "    obs = obs[0].to(device)\n",
    "    with torch.no_grad():\n",
    "        act = dqn(obs.unsqueeze(0)).argmax().item()\n",
    "    obs, rwd, done, info = env.step(act)\n",
    "    ep_return = {k: ep_return[k] + rwd[i] for i, k in enumerate(ep_return)}\n",
    "    if done:\n",
    "        print(\"ep steps: {}; ep return: {}\".format(ep_step, ep_return))\n",
    "        break\n",
    "    else:\n",
    "        ep_step += 1"
   ]
  },
  {
   "cell_type": "code",
   "execution_count": null,
   "metadata": {},
   "outputs": [],
   "source": [
    "from IPython.display import HTML\n",
    "\n",
    "from doom_arena.render import render_episode\n",
    "\n",
    "\n",
    "ani = render_episode(env.get_player_replays(), subsample=5)\n",
    "HTML(ani.to_html5_video())"
   ]
  },
  {
   "cell_type": "code",
   "execution_count": null,
   "metadata": {},
   "outputs": [],
   "source": []
  },
  {
   "cell_type": "code",
   "execution_count": null,
   "metadata": {},
   "outputs": [],
   "source": []
  }
 ],
 "metadata": {
  "kernelspec": {
   "display_name": "mhd",
   "language": "python",
   "name": "python3"
  },
  "language_info": {
   "codemirror_mode": {
    "name": "ipython",
    "version": 3
   },
   "file_extension": ".py",
   "mimetype": "text/x-python",
   "name": "python",
   "nbconvert_exporter": "python",
   "pygments_lexer": "ipython3",
   "version": "3.12.7"
  }
 },
 "nbformat": 4,
 "nbformat_minor": 2
}
