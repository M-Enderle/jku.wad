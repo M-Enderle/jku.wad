{
 "cells": [
  {
   "cell_type": "markdown",
   "metadata": {},
   "source": [
    "# VizDoom tournament"
   ]
  },
  {
   "cell_type": "code",
   "execution_count": null,
   "metadata": {},
   "outputs": [],
   "source": [
    "%load_ext autoreload\n",
    "%autoreload 2"
   ]
  },
  {
   "cell_type": "code",
   "execution_count": 3,
   "metadata": {},
   "outputs": [],
   "source": [
    "import numpy as np\n",
    "import torch\n",
    "from torch.nn import functional as F\n",
    "from torchvision import transforms\n",
    "\n",
    "from arena import VizdoomMPEnv"
   ]
  },
  {
   "cell_type": "code",
   "execution_count": 4,
   "metadata": {},
   "outputs": [],
   "source": [
    "def stack_dict(x):\n",
    "    return np.concat([v for v in x.values()], 1)\n",
    "\n",
    "\n",
    "def to_tensor(x):\n",
    "    if isinstance(x, np.ndarray):\n",
    "        x = torch.from_numpy(x)\n",
    "    return x\n",
    "\n",
    "\n",
    "def resize(x):\n",
    "    # batch dimension for interpolation\n",
    "    if x.ndim < 4:\n",
    "        x = x.unsqueeze(0)\n",
    "    return F.interpolate(x, (128, 128))\n",
    "\n",
    "\n",
    "def minmax(x):\n",
    "    # channelwise minmax (preserves different buffers as well)\n",
    "    x_max = x.view(x.shape[0], x.shape[1], -1).max(-1)[0][..., *[None] * (x.ndim - 2)]\n",
    "    x = x / (x_max + 1e-8)\n",
    "    return torch.nan_to_num(x)\n",
    "\n",
    "\n",
    "frame_transform = transforms.Compose([stack_dict, to_tensor, minmax, resize])"
   ]
  },
  {
   "cell_type": "code",
   "execution_count": null,
   "metadata": {},
   "outputs": [],
   "source": [
    "env = VizdoomMPEnv(\n",
    "    num_players=2,\n",
    "    num_bots=0,\n",
    "    doom_map=\"map01\",\n",
    "    episode_timeout=5000,\n",
    "    player_transform=frame_transform,\n",
    ")"
   ]
  },
  {
   "cell_type": "code",
   "execution_count": 6,
   "metadata": {},
   "outputs": [],
   "source": [
    "env.enable_replay()"
   ]
  },
  {
   "cell_type": "markdown",
   "metadata": {},
   "source": [
    "## Random policy (2 players)"
   ]
  },
  {
   "cell_type": "code",
   "execution_count": null,
   "metadata": {},
   "outputs": [],
   "source": [
    "for episode in range(1):\n",
    "    ep_return = {k: 0.0 for k in range(env.num_players)}\n",
    "    ep_step = 0\n",
    "    obs = env.reset()\n",
    "    done = None\n",
    "    for _ in range(300):\n",
    "        act = env.action_space.sample()\n",
    "        obs, rwd, done, info = env.step(act)\n",
    "        ep_return = {k: ep_return[k] + rwd[i] for i, k in enumerate(ep_return)}\n",
    "        if done:\n",
    "            print(\"ep steps: {}; ep return: {}\".format(ep_step, ep_return))\n",
    "            break\n",
    "        else:\n",
    "            ep_step += 1"
   ]
  },
  {
   "cell_type": "code",
   "execution_count": null,
   "metadata": {},
   "outputs": [],
   "source": [
    "from IPython.display import HTML\n",
    "\n",
    "from arena.render import render_episode\n",
    "\n",
    "\n",
    "ani = render_episode(env.get_player_replays())\n",
    "HTML(ani.to_html5_video())"
   ]
  },
  {
   "cell_type": "markdown",
   "metadata": {},
   "source": [
    "## Eval DQN"
   ]
  },
  {
   "cell_type": "code",
   "execution_count": null,
   "metadata": {},
   "outputs": [],
   "source": [
    "env = VizdoomMPEnv(\n",
    "    num_players=1,\n",
    "    num_bots=4,\n",
    "    doom_map=\"map01\",\n",
    "    episode_timeout=5000,\n",
    "    player_transform=frame_transform,\n",
    ")\n",
    "\n",
    "env.enable_replay()"
   ]
  },
  {
   "cell_type": "code",
   "execution_count": null,
   "metadata": {},
   "outputs": [],
   "source": [
    "dqn = ..."
   ]
  },
  {
   "cell_type": "code",
   "execution_count": null,
   "metadata": {},
   "outputs": [],
   "source": [
    "ep_return = {k: 0.0 for k in range(env.num_players)}\n",
    "ep_step = 0\n",
    "done = False\n",
    "obs = env.reset()\n",
    "while not done:\n",
    "    obs = obs[0].to(device)\n",
    "    act = dqn(obs).argmax().item()\n",
    "    obs, rwd, done, info = env.step(act)\n",
    "    ep_return = {k: ep_return[k] + rwd[i] for i, k in enumerate(ep_return)}\n",
    "    if done:\n",
    "        print(\"ep steps: {}; ep return: {}\".format(ep_step, ep_return))\n",
    "        break\n",
    "    else:\n",
    "        ep_step += 1"
   ]
  },
  {
   "cell_type": "code",
   "execution_count": null,
   "metadata": {},
   "outputs": [],
   "source": [
    "from IPython.display import HTML\n",
    "\n",
    "from arena.render import render_episode\n",
    "\n",
    "\n",
    "ani = render_episode(env.get_player_replays())\n",
    "HTML(ani.to_html5_video())"
   ]
  },
  {
   "cell_type": "code",
   "execution_count": null,
   "metadata": {},
   "outputs": [],
   "source": []
  }
 ],
 "metadata": {
  "kernelspec": {
   "display_name": "mhd",
   "language": "python",
   "name": "python3"
  },
  "language_info": {
   "codemirror_mode": {
    "name": "ipython",
    "version": 3
   },
   "file_extension": ".py",
   "mimetype": "text/x-python",
   "name": "python",
   "nbconvert_exporter": "python",
   "pygments_lexer": "ipython3",
   "version": "3.12.7"
  }
 },
 "nbformat": 4,
 "nbformat_minor": 2
}
